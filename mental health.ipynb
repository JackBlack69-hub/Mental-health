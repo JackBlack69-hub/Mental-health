{
 "cells": [
  {
   "cell_type": "code",
   "execution_count": 18,
   "id": "d19d404b",
   "metadata": {},
   "outputs": [
    {
     "name": "stdout",
     "output_type": "stream",
     "text": [
      "C:/Users/himan/Downloads/archive\\survey.csv\n"
     ]
    }
   ],
   "source": [
    "import pandas as pd\n",
    "import numpy as np\n",
    "import seaborn as sns\n",
    "import matplotlib.pyplot as plt\n",
    "import os\n",
    "for dirname, _, filenames in os.walk('C:/Users/himan/Downloads/archive'):\n",
    "    for filename in filenames:\n",
    "        print(os.path.join(dirname, filename))"
   ]
  },
  {
   "cell_type": "code",
   "execution_count": 19,
   "id": "3c83a716",
   "metadata": {},
   "outputs": [],
   "source": [
    "data = pd.read_csv('C:/Users/himan/Downloads/archive/survey.csv')"
   ]
  },
  {
   "cell_type": "code",
   "execution_count": 22,
   "id": "ef999a10",
   "metadata": {},
   "outputs": [
    {
     "data": {
      "text/html": [
       "<div>\n",
       "<style scoped>\n",
       "    .dataframe tbody tr th:only-of-type {\n",
       "        vertical-align: middle;\n",
       "    }\n",
       "\n",
       "    .dataframe tbody tr th {\n",
       "        vertical-align: top;\n",
       "    }\n",
       "\n",
       "    .dataframe thead th {\n",
       "        text-align: right;\n",
       "    }\n",
       "</style>\n",
       "<table border=\"1\" class=\"dataframe\">\n",
       "  <thead>\n",
       "    <tr style=\"text-align: right;\">\n",
       "      <th></th>\n",
       "      <th>0</th>\n",
       "      <th>1</th>\n",
       "      <th>2</th>\n",
       "      <th>3</th>\n",
       "      <th>4</th>\n",
       "    </tr>\n",
       "  </thead>\n",
       "  <tbody>\n",
       "    <tr>\n",
       "      <th>Timestamp</th>\n",
       "      <td>2014-08-27 11:29:31</td>\n",
       "      <td>2014-08-27 11:29:37</td>\n",
       "      <td>2014-08-27 11:29:44</td>\n",
       "      <td>2014-08-27 11:29:46</td>\n",
       "      <td>2014-08-27 11:30:22</td>\n",
       "    </tr>\n",
       "    <tr>\n",
       "      <th>Age</th>\n",
       "      <td>37</td>\n",
       "      <td>44</td>\n",
       "      <td>32</td>\n",
       "      <td>31</td>\n",
       "      <td>31</td>\n",
       "    </tr>\n",
       "    <tr>\n",
       "      <th>Gender</th>\n",
       "      <td>Female</td>\n",
       "      <td>M</td>\n",
       "      <td>Male</td>\n",
       "      <td>Male</td>\n",
       "      <td>Male</td>\n",
       "    </tr>\n",
       "    <tr>\n",
       "      <th>Country</th>\n",
       "      <td>United States</td>\n",
       "      <td>United States</td>\n",
       "      <td>Canada</td>\n",
       "      <td>United Kingdom</td>\n",
       "      <td>United States</td>\n",
       "    </tr>\n",
       "    <tr>\n",
       "      <th>state</th>\n",
       "      <td>IL</td>\n",
       "      <td>IN</td>\n",
       "      <td>NaN</td>\n",
       "      <td>NaN</td>\n",
       "      <td>TX</td>\n",
       "    </tr>\n",
       "    <tr>\n",
       "      <th>self_employed</th>\n",
       "      <td>NaN</td>\n",
       "      <td>NaN</td>\n",
       "      <td>NaN</td>\n",
       "      <td>NaN</td>\n",
       "      <td>NaN</td>\n",
       "    </tr>\n",
       "    <tr>\n",
       "      <th>family_history</th>\n",
       "      <td>No</td>\n",
       "      <td>No</td>\n",
       "      <td>No</td>\n",
       "      <td>Yes</td>\n",
       "      <td>No</td>\n",
       "    </tr>\n",
       "    <tr>\n",
       "      <th>treatment</th>\n",
       "      <td>Yes</td>\n",
       "      <td>No</td>\n",
       "      <td>No</td>\n",
       "      <td>Yes</td>\n",
       "      <td>No</td>\n",
       "    </tr>\n",
       "    <tr>\n",
       "      <th>work_interfere</th>\n",
       "      <td>Often</td>\n",
       "      <td>Rarely</td>\n",
       "      <td>Rarely</td>\n",
       "      <td>Often</td>\n",
       "      <td>Never</td>\n",
       "    </tr>\n",
       "    <tr>\n",
       "      <th>no_employees</th>\n",
       "      <td>6-25</td>\n",
       "      <td>More than 1000</td>\n",
       "      <td>6-25</td>\n",
       "      <td>26-100</td>\n",
       "      <td>100-500</td>\n",
       "    </tr>\n",
       "    <tr>\n",
       "      <th>remote_work</th>\n",
       "      <td>No</td>\n",
       "      <td>No</td>\n",
       "      <td>No</td>\n",
       "      <td>No</td>\n",
       "      <td>Yes</td>\n",
       "    </tr>\n",
       "    <tr>\n",
       "      <th>tech_company</th>\n",
       "      <td>Yes</td>\n",
       "      <td>No</td>\n",
       "      <td>Yes</td>\n",
       "      <td>Yes</td>\n",
       "      <td>Yes</td>\n",
       "    </tr>\n",
       "    <tr>\n",
       "      <th>benefits</th>\n",
       "      <td>Yes</td>\n",
       "      <td>Don't know</td>\n",
       "      <td>No</td>\n",
       "      <td>No</td>\n",
       "      <td>Yes</td>\n",
       "    </tr>\n",
       "    <tr>\n",
       "      <th>care_options</th>\n",
       "      <td>Not sure</td>\n",
       "      <td>No</td>\n",
       "      <td>No</td>\n",
       "      <td>Yes</td>\n",
       "      <td>No</td>\n",
       "    </tr>\n",
       "    <tr>\n",
       "      <th>wellness_program</th>\n",
       "      <td>No</td>\n",
       "      <td>Don't know</td>\n",
       "      <td>No</td>\n",
       "      <td>No</td>\n",
       "      <td>Don't know</td>\n",
       "    </tr>\n",
       "    <tr>\n",
       "      <th>seek_help</th>\n",
       "      <td>Yes</td>\n",
       "      <td>Don't know</td>\n",
       "      <td>No</td>\n",
       "      <td>No</td>\n",
       "      <td>Don't know</td>\n",
       "    </tr>\n",
       "    <tr>\n",
       "      <th>anonymity</th>\n",
       "      <td>Yes</td>\n",
       "      <td>Don't know</td>\n",
       "      <td>Don't know</td>\n",
       "      <td>No</td>\n",
       "      <td>Don't know</td>\n",
       "    </tr>\n",
       "    <tr>\n",
       "      <th>leave</th>\n",
       "      <td>Somewhat easy</td>\n",
       "      <td>Don't know</td>\n",
       "      <td>Somewhat difficult</td>\n",
       "      <td>Somewhat difficult</td>\n",
       "      <td>Don't know</td>\n",
       "    </tr>\n",
       "    <tr>\n",
       "      <th>mental_health_consequence</th>\n",
       "      <td>No</td>\n",
       "      <td>Maybe</td>\n",
       "      <td>No</td>\n",
       "      <td>Yes</td>\n",
       "      <td>No</td>\n",
       "    </tr>\n",
       "    <tr>\n",
       "      <th>phys_health_consequence</th>\n",
       "      <td>No</td>\n",
       "      <td>No</td>\n",
       "      <td>No</td>\n",
       "      <td>Yes</td>\n",
       "      <td>No</td>\n",
       "    </tr>\n",
       "    <tr>\n",
       "      <th>coworkers</th>\n",
       "      <td>Some of them</td>\n",
       "      <td>No</td>\n",
       "      <td>Yes</td>\n",
       "      <td>Some of them</td>\n",
       "      <td>Some of them</td>\n",
       "    </tr>\n",
       "    <tr>\n",
       "      <th>supervisor</th>\n",
       "      <td>Yes</td>\n",
       "      <td>No</td>\n",
       "      <td>Yes</td>\n",
       "      <td>No</td>\n",
       "      <td>Yes</td>\n",
       "    </tr>\n",
       "    <tr>\n",
       "      <th>mental_health_interview</th>\n",
       "      <td>No</td>\n",
       "      <td>No</td>\n",
       "      <td>Yes</td>\n",
       "      <td>Maybe</td>\n",
       "      <td>Yes</td>\n",
       "    </tr>\n",
       "    <tr>\n",
       "      <th>phys_health_interview</th>\n",
       "      <td>Maybe</td>\n",
       "      <td>No</td>\n",
       "      <td>Yes</td>\n",
       "      <td>Maybe</td>\n",
       "      <td>Yes</td>\n",
       "    </tr>\n",
       "    <tr>\n",
       "      <th>mental_vs_physical</th>\n",
       "      <td>Yes</td>\n",
       "      <td>Don't know</td>\n",
       "      <td>No</td>\n",
       "      <td>No</td>\n",
       "      <td>Don't know</td>\n",
       "    </tr>\n",
       "    <tr>\n",
       "      <th>obs_consequence</th>\n",
       "      <td>No</td>\n",
       "      <td>No</td>\n",
       "      <td>No</td>\n",
       "      <td>Yes</td>\n",
       "      <td>No</td>\n",
       "    </tr>\n",
       "    <tr>\n",
       "      <th>comments</th>\n",
       "      <td>NaN</td>\n",
       "      <td>NaN</td>\n",
       "      <td>NaN</td>\n",
       "      <td>NaN</td>\n",
       "      <td>NaN</td>\n",
       "    </tr>\n",
       "  </tbody>\n",
       "</table>\n",
       "</div>"
      ],
      "text/plain": [
       "                                             0                    1  \\\n",
       "Timestamp                  2014-08-27 11:29:31  2014-08-27 11:29:37   \n",
       "Age                                         37                   44   \n",
       "Gender                                  Female                    M   \n",
       "Country                          United States        United States   \n",
       "state                                       IL                   IN   \n",
       "self_employed                              NaN                  NaN   \n",
       "family_history                              No                   No   \n",
       "treatment                                  Yes                   No   \n",
       "work_interfere                           Often               Rarely   \n",
       "no_employees                              6-25       More than 1000   \n",
       "remote_work                                 No                   No   \n",
       "tech_company                               Yes                   No   \n",
       "benefits                                   Yes           Don't know   \n",
       "care_options                          Not sure                   No   \n",
       "wellness_program                            No           Don't know   \n",
       "seek_help                                  Yes           Don't know   \n",
       "anonymity                                  Yes           Don't know   \n",
       "leave                            Somewhat easy           Don't know   \n",
       "mental_health_consequence                   No                Maybe   \n",
       "phys_health_consequence                     No                   No   \n",
       "coworkers                         Some of them                   No   \n",
       "supervisor                                 Yes                   No   \n",
       "mental_health_interview                     No                   No   \n",
       "phys_health_interview                    Maybe                   No   \n",
       "mental_vs_physical                         Yes           Don't know   \n",
       "obs_consequence                             No                   No   \n",
       "comments                                   NaN                  NaN   \n",
       "\n",
       "                                             2                    3  \\\n",
       "Timestamp                  2014-08-27 11:29:44  2014-08-27 11:29:46   \n",
       "Age                                         32                   31   \n",
       "Gender                                    Male                 Male   \n",
       "Country                                 Canada       United Kingdom   \n",
       "state                                      NaN                  NaN   \n",
       "self_employed                              NaN                  NaN   \n",
       "family_history                              No                  Yes   \n",
       "treatment                                   No                  Yes   \n",
       "work_interfere                          Rarely                Often   \n",
       "no_employees                              6-25               26-100   \n",
       "remote_work                                 No                   No   \n",
       "tech_company                               Yes                  Yes   \n",
       "benefits                                    No                   No   \n",
       "care_options                                No                  Yes   \n",
       "wellness_program                            No                   No   \n",
       "seek_help                                   No                   No   \n",
       "anonymity                           Don't know                   No   \n",
       "leave                       Somewhat difficult   Somewhat difficult   \n",
       "mental_health_consequence                   No                  Yes   \n",
       "phys_health_consequence                     No                  Yes   \n",
       "coworkers                                  Yes         Some of them   \n",
       "supervisor                                 Yes                   No   \n",
       "mental_health_interview                    Yes                Maybe   \n",
       "phys_health_interview                      Yes                Maybe   \n",
       "mental_vs_physical                          No                   No   \n",
       "obs_consequence                             No                  Yes   \n",
       "comments                                   NaN                  NaN   \n",
       "\n",
       "                                             4  \n",
       "Timestamp                  2014-08-27 11:30:22  \n",
       "Age                                         31  \n",
       "Gender                                    Male  \n",
       "Country                          United States  \n",
       "state                                       TX  \n",
       "self_employed                              NaN  \n",
       "family_history                              No  \n",
       "treatment                                   No  \n",
       "work_interfere                           Never  \n",
       "no_employees                           100-500  \n",
       "remote_work                                Yes  \n",
       "tech_company                               Yes  \n",
       "benefits                                   Yes  \n",
       "care_options                                No  \n",
       "wellness_program                    Don't know  \n",
       "seek_help                           Don't know  \n",
       "anonymity                           Don't know  \n",
       "leave                               Don't know  \n",
       "mental_health_consequence                   No  \n",
       "phys_health_consequence                     No  \n",
       "coworkers                         Some of them  \n",
       "supervisor                                 Yes  \n",
       "mental_health_interview                    Yes  \n",
       "phys_health_interview                      Yes  \n",
       "mental_vs_physical                  Don't know  \n",
       "obs_consequence                             No  \n",
       "comments                                   NaN  "
      ]
     },
     "execution_count": 22,
     "metadata": {},
     "output_type": "execute_result"
    }
   ],
   "source": [
    "data.head().T\n"
   ]
  },
  {
   "cell_type": "code",
   "execution_count": 23,
   "id": "ef692349",
   "metadata": {},
   "outputs": [
    {
     "data": {
      "text/plain": [
       "comments                     1095\n",
       "state                         515\n",
       "work_interfere                264\n",
       "self_employed                  18\n",
       "seek_help                       0\n",
       "obs_consequence                 0\n",
       "mental_vs_physical              0\n",
       "phys_health_interview           0\n",
       "mental_health_interview         0\n",
       "supervisor                      0\n",
       "coworkers                       0\n",
       "phys_health_consequence         0\n",
       "mental_health_consequence       0\n",
       "leave                           0\n",
       "anonymity                       0\n",
       "Timestamp                       0\n",
       "wellness_program                0\n",
       "Age                             0\n",
       "benefits                        0\n",
       "tech_company                    0\n",
       "remote_work                     0\n",
       "no_employees                    0\n",
       "treatment                       0\n",
       "family_history                  0\n",
       "Country                         0\n",
       "Gender                          0\n",
       "care_options                    0\n",
       "dtype: int64"
      ]
     },
     "execution_count": 23,
     "metadata": {},
     "output_type": "execute_result"
    }
   ],
   "source": [
    "data.isnull().sum().sort_values(ascending=False)"
   ]
  },
  {
   "cell_type": "code",
   "execution_count": 24,
   "id": "b18cb2b8",
   "metadata": {},
   "outputs": [],
   "source": [
    "data.drop('comments',axis=1,inplace=True)\n",
    "data.drop('state',axis=1,inplace=True)\n",
    "data.drop('Timestamp',axis=1,inplace=True)"
   ]
  },
  {
   "cell_type": "code",
   "execution_count": 25,
   "id": "0f2fcbd9",
   "metadata": {},
   "outputs": [
    {
     "data": {
      "text/html": [
       "<div>\n",
       "<style scoped>\n",
       "    .dataframe tbody tr th:only-of-type {\n",
       "        vertical-align: middle;\n",
       "    }\n",
       "\n",
       "    .dataframe tbody tr th {\n",
       "        vertical-align: top;\n",
       "    }\n",
       "\n",
       "    .dataframe thead th {\n",
       "        text-align: right;\n",
       "    }\n",
       "</style>\n",
       "<table border=\"1\" class=\"dataframe\">\n",
       "  <thead>\n",
       "    <tr style=\"text-align: right;\">\n",
       "      <th></th>\n",
       "      <th>0</th>\n",
       "      <th>1</th>\n",
       "      <th>2</th>\n",
       "      <th>3</th>\n",
       "      <th>4</th>\n",
       "    </tr>\n",
       "  </thead>\n",
       "  <tbody>\n",
       "    <tr>\n",
       "      <th>Age</th>\n",
       "      <td>37</td>\n",
       "      <td>44</td>\n",
       "      <td>32</td>\n",
       "      <td>31</td>\n",
       "      <td>31</td>\n",
       "    </tr>\n",
       "    <tr>\n",
       "      <th>Gender</th>\n",
       "      <td>Female</td>\n",
       "      <td>M</td>\n",
       "      <td>Male</td>\n",
       "      <td>Male</td>\n",
       "      <td>Male</td>\n",
       "    </tr>\n",
       "    <tr>\n",
       "      <th>Country</th>\n",
       "      <td>United States</td>\n",
       "      <td>United States</td>\n",
       "      <td>Canada</td>\n",
       "      <td>United Kingdom</td>\n",
       "      <td>United States</td>\n",
       "    </tr>\n",
       "    <tr>\n",
       "      <th>self_employed</th>\n",
       "      <td>NaN</td>\n",
       "      <td>NaN</td>\n",
       "      <td>NaN</td>\n",
       "      <td>NaN</td>\n",
       "      <td>NaN</td>\n",
       "    </tr>\n",
       "    <tr>\n",
       "      <th>family_history</th>\n",
       "      <td>No</td>\n",
       "      <td>No</td>\n",
       "      <td>No</td>\n",
       "      <td>Yes</td>\n",
       "      <td>No</td>\n",
       "    </tr>\n",
       "    <tr>\n",
       "      <th>treatment</th>\n",
       "      <td>Yes</td>\n",
       "      <td>No</td>\n",
       "      <td>No</td>\n",
       "      <td>Yes</td>\n",
       "      <td>No</td>\n",
       "    </tr>\n",
       "    <tr>\n",
       "      <th>work_interfere</th>\n",
       "      <td>Often</td>\n",
       "      <td>Rarely</td>\n",
       "      <td>Rarely</td>\n",
       "      <td>Often</td>\n",
       "      <td>Never</td>\n",
       "    </tr>\n",
       "    <tr>\n",
       "      <th>no_employees</th>\n",
       "      <td>6-25</td>\n",
       "      <td>More than 1000</td>\n",
       "      <td>6-25</td>\n",
       "      <td>26-100</td>\n",
       "      <td>100-500</td>\n",
       "    </tr>\n",
       "    <tr>\n",
       "      <th>remote_work</th>\n",
       "      <td>No</td>\n",
       "      <td>No</td>\n",
       "      <td>No</td>\n",
       "      <td>No</td>\n",
       "      <td>Yes</td>\n",
       "    </tr>\n",
       "    <tr>\n",
       "      <th>tech_company</th>\n",
       "      <td>Yes</td>\n",
       "      <td>No</td>\n",
       "      <td>Yes</td>\n",
       "      <td>Yes</td>\n",
       "      <td>Yes</td>\n",
       "    </tr>\n",
       "    <tr>\n",
       "      <th>benefits</th>\n",
       "      <td>Yes</td>\n",
       "      <td>Don't know</td>\n",
       "      <td>No</td>\n",
       "      <td>No</td>\n",
       "      <td>Yes</td>\n",
       "    </tr>\n",
       "    <tr>\n",
       "      <th>care_options</th>\n",
       "      <td>Not sure</td>\n",
       "      <td>No</td>\n",
       "      <td>No</td>\n",
       "      <td>Yes</td>\n",
       "      <td>No</td>\n",
       "    </tr>\n",
       "    <tr>\n",
       "      <th>wellness_program</th>\n",
       "      <td>No</td>\n",
       "      <td>Don't know</td>\n",
       "      <td>No</td>\n",
       "      <td>No</td>\n",
       "      <td>Don't know</td>\n",
       "    </tr>\n",
       "    <tr>\n",
       "      <th>seek_help</th>\n",
       "      <td>Yes</td>\n",
       "      <td>Don't know</td>\n",
       "      <td>No</td>\n",
       "      <td>No</td>\n",
       "      <td>Don't know</td>\n",
       "    </tr>\n",
       "    <tr>\n",
       "      <th>anonymity</th>\n",
       "      <td>Yes</td>\n",
       "      <td>Don't know</td>\n",
       "      <td>Don't know</td>\n",
       "      <td>No</td>\n",
       "      <td>Don't know</td>\n",
       "    </tr>\n",
       "    <tr>\n",
       "      <th>leave</th>\n",
       "      <td>Somewhat easy</td>\n",
       "      <td>Don't know</td>\n",
       "      <td>Somewhat difficult</td>\n",
       "      <td>Somewhat difficult</td>\n",
       "      <td>Don't know</td>\n",
       "    </tr>\n",
       "    <tr>\n",
       "      <th>mental_health_consequence</th>\n",
       "      <td>No</td>\n",
       "      <td>Maybe</td>\n",
       "      <td>No</td>\n",
       "      <td>Yes</td>\n",
       "      <td>No</td>\n",
       "    </tr>\n",
       "    <tr>\n",
       "      <th>phys_health_consequence</th>\n",
       "      <td>No</td>\n",
       "      <td>No</td>\n",
       "      <td>No</td>\n",
       "      <td>Yes</td>\n",
       "      <td>No</td>\n",
       "    </tr>\n",
       "    <tr>\n",
       "      <th>coworkers</th>\n",
       "      <td>Some of them</td>\n",
       "      <td>No</td>\n",
       "      <td>Yes</td>\n",
       "      <td>Some of them</td>\n",
       "      <td>Some of them</td>\n",
       "    </tr>\n",
       "    <tr>\n",
       "      <th>supervisor</th>\n",
       "      <td>Yes</td>\n",
       "      <td>No</td>\n",
       "      <td>Yes</td>\n",
       "      <td>No</td>\n",
       "      <td>Yes</td>\n",
       "    </tr>\n",
       "    <tr>\n",
       "      <th>mental_health_interview</th>\n",
       "      <td>No</td>\n",
       "      <td>No</td>\n",
       "      <td>Yes</td>\n",
       "      <td>Maybe</td>\n",
       "      <td>Yes</td>\n",
       "    </tr>\n",
       "    <tr>\n",
       "      <th>phys_health_interview</th>\n",
       "      <td>Maybe</td>\n",
       "      <td>No</td>\n",
       "      <td>Yes</td>\n",
       "      <td>Maybe</td>\n",
       "      <td>Yes</td>\n",
       "    </tr>\n",
       "    <tr>\n",
       "      <th>mental_vs_physical</th>\n",
       "      <td>Yes</td>\n",
       "      <td>Don't know</td>\n",
       "      <td>No</td>\n",
       "      <td>No</td>\n",
       "      <td>Don't know</td>\n",
       "    </tr>\n",
       "    <tr>\n",
       "      <th>obs_consequence</th>\n",
       "      <td>No</td>\n",
       "      <td>No</td>\n",
       "      <td>No</td>\n",
       "      <td>Yes</td>\n",
       "      <td>No</td>\n",
       "    </tr>\n",
       "  </tbody>\n",
       "</table>\n",
       "</div>"
      ],
      "text/plain": [
       "                                       0               1                   2  \\\n",
       "Age                                   37              44                  32   \n",
       "Gender                            Female               M                Male   \n",
       "Country                    United States   United States              Canada   \n",
       "self_employed                        NaN             NaN                 NaN   \n",
       "family_history                        No              No                  No   \n",
       "treatment                            Yes              No                  No   \n",
       "work_interfere                     Often          Rarely              Rarely   \n",
       "no_employees                        6-25  More than 1000                6-25   \n",
       "remote_work                           No              No                  No   \n",
       "tech_company                         Yes              No                 Yes   \n",
       "benefits                             Yes      Don't know                  No   \n",
       "care_options                    Not sure              No                  No   \n",
       "wellness_program                      No      Don't know                  No   \n",
       "seek_help                            Yes      Don't know                  No   \n",
       "anonymity                            Yes      Don't know          Don't know   \n",
       "leave                      Somewhat easy      Don't know  Somewhat difficult   \n",
       "mental_health_consequence             No           Maybe                  No   \n",
       "phys_health_consequence               No              No                  No   \n",
       "coworkers                   Some of them              No                 Yes   \n",
       "supervisor                           Yes              No                 Yes   \n",
       "mental_health_interview               No              No                 Yes   \n",
       "phys_health_interview              Maybe              No                 Yes   \n",
       "mental_vs_physical                   Yes      Don't know                  No   \n",
       "obs_consequence                       No              No                  No   \n",
       "\n",
       "                                            3              4  \n",
       "Age                                        31             31  \n",
       "Gender                                   Male           Male  \n",
       "Country                        United Kingdom  United States  \n",
       "self_employed                             NaN            NaN  \n",
       "family_history                            Yes             No  \n",
       "treatment                                 Yes             No  \n",
       "work_interfere                          Often          Never  \n",
       "no_employees                           26-100        100-500  \n",
       "remote_work                                No            Yes  \n",
       "tech_company                              Yes            Yes  \n",
       "benefits                                   No            Yes  \n",
       "care_options                              Yes             No  \n",
       "wellness_program                           No     Don't know  \n",
       "seek_help                                  No     Don't know  \n",
       "anonymity                                  No     Don't know  \n",
       "leave                      Somewhat difficult     Don't know  \n",
       "mental_health_consequence                 Yes             No  \n",
       "phys_health_consequence                   Yes             No  \n",
       "coworkers                        Some of them   Some of them  \n",
       "supervisor                                 No            Yes  \n",
       "mental_health_interview                 Maybe            Yes  \n",
       "phys_health_interview                   Maybe            Yes  \n",
       "mental_vs_physical                         No     Don't know  \n",
       "obs_consequence                           Yes             No  "
      ]
     },
     "execution_count": 25,
     "metadata": {},
     "output_type": "execute_result"
    }
   ],
   "source": [
    "data.head().T"
   ]
  },
  {
   "cell_type": "code",
   "execution_count": 26,
   "id": "2fbfdd6a",
   "metadata": {},
   "outputs": [
    {
     "data": {
      "text/plain": [
       "work_interfere               264\n",
       "self_employed                 18\n",
       "Age                            0\n",
       "seek_help                      0\n",
       "mental_vs_physical             0\n",
       "phys_health_interview          0\n",
       "mental_health_interview        0\n",
       "supervisor                     0\n",
       "coworkers                      0\n",
       "phys_health_consequence        0\n",
       "mental_health_consequence      0\n",
       "leave                          0\n",
       "anonymity                      0\n",
       "wellness_program               0\n",
       "Gender                         0\n",
       "care_options                   0\n",
       "benefits                       0\n",
       "tech_company                   0\n",
       "remote_work                    0\n",
       "no_employees                   0\n",
       "treatment                      0\n",
       "family_history                 0\n",
       "Country                        0\n",
       "obs_consequence                0\n",
       "dtype: int64"
      ]
     },
     "execution_count": 26,
     "metadata": {},
     "output_type": "execute_result"
    }
   ],
   "source": [
    "data.isnull().sum().sort_values(ascending=False)"
   ]
  },
  {
   "cell_type": "code",
   "execution_count": 27,
   "id": "f8d286b9",
   "metadata": {},
   "outputs": [
    {
     "name": "stdout",
     "output_type": "stream",
     "text": [
      "['Often' 'Rarely' 'Never' 'Sometimes' nan]\n",
      "[nan 'Yes' 'No']\n"
     ]
    }
   ],
   "source": [
    "print(data['work_interfere'].unique())\n",
    "print(data['self_employed'].unique())"
   ]
  },
  {
   "cell_type": "code",
   "execution_count": 28,
   "id": "88f5235b",
   "metadata": {},
   "outputs": [
    {
     "name": "stdout",
     "output_type": "stream",
     "text": [
      "\n",
      " ['Often' 'Rarely' 'Never' 'Sometimes' 'no answer'] \n",
      "\n",
      "self_employed                18\n",
      "Age                           0\n",
      "seek_help                     0\n",
      "mental_vs_physical            0\n",
      "phys_health_interview         0\n",
      "mental_health_interview       0\n",
      "supervisor                    0\n",
      "coworkers                     0\n",
      "phys_health_consequence       0\n",
      "mental_health_consequence     0\n",
      "leave                         0\n",
      "anonymity                     0\n",
      "wellness_program              0\n",
      "Gender                        0\n",
      "care_options                  0\n",
      "benefits                      0\n",
      "tech_company                  0\n",
      "remote_work                   0\n",
      "no_employees                  0\n",
      "work_interfere                0\n",
      "treatment                     0\n",
      "family_history                0\n",
      "Country                       0\n",
      "obs_consequence               0\n",
      "dtype: int64\n"
     ]
    }
   ],
   "source": [
    "data['work_interfere'] = data['work_interfere'].fillna('no answer')\n",
    "print(\"\\n\",data['work_interfere'].unique(),\"\\n\")\n",
    "print(data.isnull().sum().sort_values(ascending=False))"
   ]
  },
  {
   "cell_type": "code",
   "execution_count": 29,
   "id": "b2e58b08",
   "metadata": {},
   "outputs": [
    {
     "name": "stdout",
     "output_type": "stream",
     "text": [
      "\n",
      " ['Yes' 'No'] \n",
      "\n",
      "Age                          0\n",
      "Gender                       0\n",
      "mental_vs_physical           0\n",
      "phys_health_interview        0\n",
      "mental_health_interview      0\n",
      "supervisor                   0\n",
      "coworkers                    0\n",
      "phys_health_consequence      0\n",
      "mental_health_consequence    0\n",
      "leave                        0\n",
      "anonymity                    0\n",
      "seek_help                    0\n",
      "wellness_program             0\n",
      "care_options                 0\n",
      "benefits                     0\n",
      "tech_company                 0\n",
      "remote_work                  0\n",
      "no_employees                 0\n",
      "work_interfere               0\n",
      "treatment                    0\n",
      "family_history               0\n",
      "self_employed                0\n",
      "Country                      0\n",
      "obs_consequence              0\n",
      "dtype: int64\n"
     ]
    }
   ],
   "source": [
    "data.dropna(inplace=True)\n",
    "\n",
    "print(\"\\n\",data['self_employed'].unique(),\"\\n\")\n",
    "print(data.isnull().sum().sort_values(ascending=False))"
   ]
  },
  {
   "cell_type": "code",
   "execution_count": 30,
   "id": "9d111be5",
   "metadata": {},
   "outputs": [],
   "source": [
    "unique_values_per_column = {}\n",
    "for column in data.columns:\n",
    "    unique_values_per_column[column] = data[column].unique()"
   ]
  },
  {
   "cell_type": "code",
   "execution_count": 31,
   "id": "33050c75",
   "metadata": {},
   "outputs": [
    {
     "data": {
      "text/plain": [
       "array([         46,          36,          29,          31,          41,\n",
       "                33,          35,          34,          37,          32,\n",
       "                30,          42,          40,          27,          38,\n",
       "                50,          24,          18,          28,          26,\n",
       "                22,          44,          23,          19,          25,\n",
       "                39,          45,          21,         -29,          43,\n",
       "                56,          60,          54,         329,          55,\n",
       "       99999999999,          48,          20,          57,          58,\n",
       "                47,          62,          51,          65,          49,\n",
       "             -1726,           5,          53,          61,           8,\n",
       "                11,          -1,          72], dtype=int64)"
      ]
     },
     "execution_count": 31,
     "metadata": {},
     "output_type": "execute_result"
    }
   ],
   "source": [
    "unique_values_per_column['Age']"
   ]
  },
  {
   "cell_type": "code",
   "execution_count": 32,
   "id": "6e4eb23e",
   "metadata": {},
   "outputs": [
    {
     "data": {
      "text/plain": [
       "Int64Index([143, 364, 390, 715, 734, 989, 1090, 1127], dtype='int64')"
      ]
     },
     "execution_count": 32,
     "metadata": {},
     "output_type": "execute_result"
    }
   ],
   "source": [
    "uncleaned_age_data = data[(data['Age'] < 18) | (data['Age'] > 100)]\n",
    "len(uncleaned_age_data)\n",
    "uncleaned_age_data['Age'].index"
   ]
  },
  {
   "cell_type": "code",
   "execution_count": 33,
   "id": "ac07fbf9",
   "metadata": {},
   "outputs": [],
   "source": [
    "data = data.drop(uncleaned_age_data['Age'].index)"
   ]
  },
  {
   "cell_type": "code",
   "execution_count": 34,
   "id": "b381906b",
   "metadata": {},
   "outputs": [
    {
     "data": {
      "text/plain": [
       "array([46, 36, 29, 31, 41, 33, 35, 34, 37, 32, 30, 42, 40, 27, 38, 50, 24,\n",
       "       18, 28, 26, 22, 44, 23, 19, 25, 39, 45, 21, 43, 56, 60, 54, 55, 48,\n",
       "       20, 57, 58, 47, 62, 51, 65, 49, 53, 61, 72], dtype=int64)"
      ]
     },
     "execution_count": 34,
     "metadata": {},
     "output_type": "execute_result"
    }
   ],
   "source": [
    "data['Age'].unique()"
   ]
  },
  {
   "cell_type": "code",
   "execution_count": 35,
   "id": "c3ccdfc5",
   "metadata": {},
   "outputs": [
    {
     "data": {
      "text/plain": [
       "array(['male', 'Male', 'Female', 'female', 'M', 'm', 'Male-ish', 'maile',\n",
       "       'Trans-female', 'Cis Female', 'F', 'something kinda male?',\n",
       "       'Cis Male', 'Woman', 'f', 'Mal', 'Male (CIS)', 'queer/she/they',\n",
       "       'non-binary', 'Femake', 'woman', 'Make', 'Nah', 'All', 'Enby',\n",
       "       'fluid', 'Genderqueer', 'Female ', 'Androgyne', 'Agender',\n",
       "       'cis-female/femme', 'Guy (-ish) ^_^', 'male leaning androgynous',\n",
       "       'Male ', 'Man', 'Trans woman', 'msle', 'Neuter', 'Female (trans)',\n",
       "       'queer', 'Female (cis)', 'Mail', 'cis male', 'A little about you',\n",
       "       'Malr', 'p', 'femail', 'Cis Man',\n",
       "       'ostensibly male, unsure what that really means'], dtype=object)"
      ]
     },
     "execution_count": 35,
     "metadata": {},
     "output_type": "execute_result"
    }
   ],
   "source": [
    "unique_values_per_column['Gender']"
   ]
  },
  {
   "cell_type": "code",
   "execution_count": 36,
   "id": "b2ddcf50",
   "metadata": {},
   "outputs": [
    {
     "name": "stdout",
     "output_type": "stream",
     "text": [
      "['male' 'female' 'trans' 'Nah' 'Enby']\n"
     ]
    }
   ],
   "source": [
    "male = ['male', 'Male','M', 'm', 'Male-ish', 'maile','Cis Male','Mal', 'Male (CIS)','Make','Male ', 'Man',\n",
    "        'msle','cis male', 'Cis Man','Malr','Mail']\n",
    "female = ['Female', 'female','Cis Female', 'F','f','Femake', 'woman','Female ','cis-female/femme','Female (cis)','femail','Woman','female']\n",
    "trans = ['Trans-female','something kinda male?','queer/she/they','non-binary','All','fluid', 'Genderqueer','Androgyne', 'Agender','Guy (-ish) ^_^',\n",
    "        'male leaning androgynous','Trans woman','Neuter', 'Female (trans)','queer','ostensibly male, unsure what that really means','trans']\n",
    "\n",
    "data['Gender'].replace(to_replace=male,value='male',inplace=True)\n",
    "data['Gender'].replace(to_replace=female,value='female',inplace=True)\n",
    "data['Gender'].replace(to_replace=trans,value='trans',inplace=True)\n",
    "\n",
    "print(data['Gender'].unique())"
   ]
  },
  {
   "cell_type": "code",
   "execution_count": 37,
   "id": "b941c322",
   "metadata": {},
   "outputs": [
    {
     "data": {
      "text/plain": [
       "array(['male', 'female', 'trans'], dtype=object)"
      ]
     },
     "execution_count": 37,
     "metadata": {},
     "output_type": "execute_result"
    }
   ],
   "source": [
    "data.drop(data[data['Gender'] == 'Nah'].index,inplace=True)\n",
    "data.drop(data[data['Gender'] == 'Enby'].index,inplace=True)\n",
    "data.drop(data[data['Gender'] == 'A little about you'].index,inplace=True)\n",
    "\n",
    "data['Gender'].unique()"
   ]
  },
  {
   "cell_type": "code",
   "execution_count": 38,
   "id": "bc118643",
   "metadata": {},
   "outputs": [
    {
     "data": {
      "text/plain": [
       "array(['United States', 'France', 'United Kingdom', 'Canada', 'Portugal',\n",
       "       'Netherlands', 'Switzerland', 'Poland', 'Australia', 'Germany',\n",
       "       'Russia', 'Mexico', 'Brazil', 'Slovenia', 'Costa Rica', 'Austria',\n",
       "       'Ireland', 'India', 'South Africa', 'Italy', 'Bulgaria', 'Sweden',\n",
       "       'Colombia', 'Latvia', 'Romania', 'Belgium', 'New Zealand',\n",
       "       'Zimbabwe', 'Spain', 'Finland', 'Uruguay', 'Israel',\n",
       "       'Bosnia and Herzegovina', 'Hungary', 'Singapore', 'Japan',\n",
       "       'Nigeria', 'Croatia', 'Norway', 'Thailand', 'Denmark',\n",
       "       'Bahamas, The', 'Greece', 'Moldova', 'Georgia', 'China',\n",
       "       'Czech Republic', 'Philippines'], dtype=object)"
      ]
     },
     "execution_count": 38,
     "metadata": {},
     "output_type": "execute_result"
    }
   ],
   "source": [
    "unique_values_per_column['Country']"
   ]
  },
  {
   "cell_type": "code",
   "execution_count": 39,
   "id": "4117639d",
   "metadata": {},
   "outputs": [
    {
     "data": {
      "text/plain": [
       "array(['NA', 'EU', 'OC', 'SA', 'AS', 'AF'], dtype=object)"
      ]
     },
     "execution_count": 39,
     "metadata": {},
     "output_type": "execute_result"
    }
   ],
   "source": [
    "north_america = ['United States','Canada','Mexico','Costa Rica','Bahamas, The']\n",
    "south_america = ['Brazil','Colombia','Uruguay']\n",
    "europe = ['France','United Kingdom','Portugal','Netherlands', 'Switzerland', 'Poland','Germany',\n",
    "         'Russia','Slovenia','Austria','Ireland','Italy', 'Bulgaria', 'Sweden','Latvia', 'Romania',\n",
    "         'Belgium','Spain', 'Finland','Bosnia and Herzegovina', 'Hungary','Croatia', 'Norway','Denmark',\n",
    "         'Greece', 'Moldova','Czech Republic']\n",
    "asia = ['Georgia','Singapore', 'Japan','Thailand','China','Philippines','India','Israel']\n",
    "africa = ['Zimbabwe','Nigeria','South Africa']\n",
    "oceania = ['Australia','New Zealand']\n",
    "\n",
    "data['Country'].replace(to_replace=north_america, value='NA',inplace=True)\n",
    "data['Country'].replace(to_replace=south_america, value='SA',inplace=True)\n",
    "data['Country'].replace(to_replace=europe, value='EU',inplace=True)\n",
    "data['Country'].replace(to_replace=asia, value='AS',inplace=True)\n",
    "data['Country'].replace(to_replace=africa, value='AF',inplace=True)\n",
    "data['Country'].replace(to_replace=oceania, value='OC',inplace=True)\n",
    "\n",
    "data['Country'].unique()"
   ]
  },
  {
   "cell_type": "code",
   "execution_count": 40,
   "id": "e7a7a770",
   "metadata": {},
   "outputs": [
    {
     "name": "stdout",
     "output_type": "stream",
     "text": [
      "<class 'pandas.core.frame.DataFrame'>\n",
      "Int64Index: 1231 entries, 18 to 1258\n",
      "Data columns (total 24 columns):\n",
      " #   Column                     Non-Null Count  Dtype \n",
      "---  ------                     --------------  ----- \n",
      " 0   Age                        1231 non-null   int64 \n",
      " 1   Gender                     1231 non-null   object\n",
      " 2   Country                    1231 non-null   object\n",
      " 3   self_employed              1231 non-null   object\n",
      " 4   family_history             1231 non-null   object\n",
      " 5   treatment                  1231 non-null   object\n",
      " 6   work_interfere             1231 non-null   object\n",
      " 7   no_employees               1231 non-null   object\n",
      " 8   remote_work                1231 non-null   object\n",
      " 9   tech_company               1231 non-null   object\n",
      " 10  benefits                   1231 non-null   object\n",
      " 11  care_options               1231 non-null   object\n",
      " 12  wellness_program           1231 non-null   object\n",
      " 13  seek_help                  1231 non-null   object\n",
      " 14  anonymity                  1231 non-null   object\n",
      " 15  leave                      1231 non-null   object\n",
      " 16  mental_health_consequence  1231 non-null   object\n",
      " 17  phys_health_consequence    1231 non-null   object\n",
      " 18  coworkers                  1231 non-null   object\n",
      " 19  supervisor                 1231 non-null   object\n",
      " 20  mental_health_interview    1231 non-null   object\n",
      " 21  phys_health_interview      1231 non-null   object\n",
      " 22  mental_vs_physical         1231 non-null   object\n",
      " 23  obs_consequence            1231 non-null   object\n",
      "dtypes: int64(1), object(23)\n",
      "memory usage: 240.4+ KB\n"
     ]
    }
   ],
   "source": [
    "data.info()"
   ]
  },
  {
   "cell_type": "code",
   "execution_count": 42,
   "id": "cdd02b0a",
   "metadata": {},
   "outputs": [
    {
     "data": {
      "text/plain": [
       "<AxesSubplot:xlabel='count', ylabel='treatment'>"
      ]
     },
     "execution_count": 42,
     "metadata": {},
     "output_type": "execute_result"
    },
    {
     "data": {
      "image/png": "[encoded data removed]",
      "text/plain": [
       "<Figure size 1440x720 with 1 Axes>"
      ]
     },
     "metadata": {},
     "output_type": "display_data"
    }
   ],
   "source": [
    "sns.set(rc={'figure.figsize':(20,10)})\n",
    "sns.set_theme(style=\"darkgrid\")\n",
    "sns.countplot(y='treatment',data=data)"
   ]
  },
  {
   "cell_type": "code",
   "execution_count": 44,
   "id": "47d35ab5",
   "metadata": {},
   "outputs": [
    {
     "data": {
      "text/plain": [
       "<AxesSubplot:xlabel='count', ylabel='treatment'>"
      ]
     },
     "execution_count": 44,
     "metadata": {},
     "output_type": "execute_result"
    },
    {
     "data": {
      "image/png": "[encoded data removed]",
      "text/plain": [
       "<Figure size 1440x720 with 1 Axes>"
      ]
     },
     "metadata": {},
     "output_type": "display_data"
    }
   ],
   "source": [
    "sns.countplot(y='treatment',hue='Gender',data=data)"
   ]
  },
  {
   "cell_type": "code",
   "execution_count": 46,
   "id": "67b53ec3",
   "metadata": {},
   "outputs": [
    {
     "data": {
      "text/plain": [
       "<AxesSubplot:xlabel='count', ylabel='Country'>"
      ]
     },
     "execution_count": 46,
     "metadata": {},
     "output_type": "execute_result"
    },
    {
     "data": {
      "image/png": "[encoded data removed]",
      "text/plain": [
       "<Figure size 1440x720 with 1 Axes>"
      ]
     },
     "metadata": {},
     "output_type": "display_data"
    }
   ],
   "source": [
    "sns.countplot(y='Country',data=data,order=data['Country'].value_counts().index)"
   ]
  },
  {
   "cell_type": "code",
   "execution_count": 53,
   "id": "b767ade2",
   "metadata": {
    "scrolled": true
   },
   "outputs": [
    {
     "data": {
      "text/plain": [
       "<AxesSubplot:xlabel='count', ylabel='treatment'>"
      ]
     },
     "execution_count": 53,
     "metadata": {},
     "output_type": "execute_result"
    },
    {
     "data": {
      "image/png": "[encoded data removed]",
      "text/plain": [
       "<Figure size 1440x720 with 1 Axes>"
      ]
     },
     "metadata": {},
     "output_type": "display_data"
    }
   ],
   "source": [
    "sns.countplot(y='treatment',hue='Country',data=data)"
   ]
  },
  {
   "cell_type": "code",
   "execution_count": 48,
   "id": "dc37cd7a",
   "metadata": {},
   "outputs": [
    {
     "data": {
      "text/plain": [
       "<AxesSubplot:xlabel='count', ylabel='Age'>"
      ]
     },
     "execution_count": 48,
     "metadata": {},
     "output_type": "execute_result"
    },
    {
     "data": {
      "image/png": "[encoded data removed]",
      "text/plain": [
       "<Figure size 1440x720 with 1 Axes>"
      ]
     },
     "metadata": {},
     "output_type": "display_data"
    }
   ],
   "source": [
    "sns.countplot(y='Age',data=data)"
   ]
  },
  {
   "cell_type": "code",
   "execution_count": 49,
   "id": "9e346999",
   "metadata": {},
   "outputs": [
    {
     "data": {
      "text/plain": [
       "<AxesSubplot:ylabel='Age'>"
      ]
     },
     "execution_count": 49,
     "metadata": {},
     "output_type": "execute_result"
    },
    {
     "data": {
      "image/png": "[encoded data removed]",
      "text/plain": [
       "<Figure size 1440x720 with 1 Axes>"
      ]
     },
     "metadata": {},
     "output_type": "display_data"
    }
   ],
   "source": [
    "sns.boxplot(y='Age',data=data)"
   ]
  },
  {
   "cell_type": "code",
   "execution_count": null,
   "id": "bf64e6b7",
   "metadata": {},
   "outputs": [],
   "source": []
  },
  {
   "cell_type": "code",
   "execution_count": null,
   "id": "c47efcb6",
   "metadata": {},
   "outputs": [],
   "source": []
  }
 ],
 "metadata": {
  "kernelspec": {
   "display_name": "Python 3 (ipykernel)",
   "language": "python",
   "name": "python3"
  },
  "language_info": {
   "codemirror_mode": {
    "name": "ipython",
    "version": 3
   },
   "file_extension": ".py",
   "mimetype": "text/x-python",
   "name": "python",
   "nbconvert_exporter": "python",
   "pygments_lexer": "ipython3",
   "version": "3.9.0"
  }
 },
 "nbformat": 4,
 "nbformat_minor": 5
}
